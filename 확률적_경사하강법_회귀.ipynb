{
  "nbformat": 4,
  "nbformat_minor": 0,
  "metadata": {
    "colab": {
      "provenance": [],
      "authorship_tag": "ABX9TyPLSJh1FKEaDww0zAJ2+04r",
      "include_colab_link": true
    },
    "kernelspec": {
      "name": "python3",
      "display_name": "Python 3"
    },
    "language_info": {
      "name": "python"
    }
  },
  "cells": [
    {
      "cell_type": "markdown",
      "metadata": {
        "id": "view-in-github",
        "colab_type": "text"
      },
      "source": [
        "<a href=\"https://colab.research.google.com/github/expr01/SGD/blob/main/%ED%99%95%EB%A5%A0%EC%A0%81_%EA%B2%BD%EC%82%AC%ED%95%98%EA%B0%95%EB%B2%95_%ED%9A%8C%EA%B7%80.ipynb\" target=\"_parent\"><img src=\"https://colab.research.google.com/assets/colab-badge.svg\" alt=\"Open In Colab\"/></a>"
      ]
    },
    {
      "cell_type": "code",
      "execution_count": 8,
      "metadata": {
        "colab": {
          "base_uri": "https://localhost:8080/"
        },
        "id": "K2fYhvUhsEi9",
        "outputId": "57aa118e-857d-4f78-ea3b-4d7a1f53ceca"
      },
      "outputs": [
        {
          "output_type": "stream",
          "name": "stdout",
          "text": [
            "Training score: 0.9870341912483729\n",
            "Test score: 0.9869770639397925\n"
          ]
        }
      ],
      "source": [
        "import numpy as np\n",
        "import pandas as pd\n",
        "from sklearn.model_selection import train_test_split\n",
        "from sklearn.preprocessing import PolynomialFeatures\n",
        "from sklearn.linear_model import SGDRegressor\n",
        "from sklearn.preprocessing import StandardScaler\n",
        "\n",
        "# CSV 파일 로드\n",
        "df = pd.read_csv('http://bit.ly/perch_csv_data')\n",
        "perch_full = df.to_numpy()\n",
        "\n",
        "# 타겟 데이터\n",
        "perch_weight = np.array([5.9, 32.0, 40.0, 51.5, 70.0, 100.0, 78.0, 80.0, 85.0, 85.0,\n",
        "                         110.0, 115.0, 125.0, 130.0, 120.0, 120.0, 130.0, 135.0,\n",
        "                         110.0, 130.0, 150.0, 145.0, 150.0, 170.0, 225.0, 145.0,\n",
        "                         188.0, 180.0, 197.0, 218.0, 300.0, 260.0, 265.0, 250.0,\n",
        "                         250.0, 300.0, 320.0, 514.0, 556.0, 840.0, 685.0, 700.0,\n",
        "                         700.0, 690.0, 900.0, 650.0, 820.0, 850.0, 900.0, 1015.0,\n",
        "                         820.0, 1100.0, 1000.0, 1100.0, 1000.0, 1000.0])\n",
        "\n",
        "# 데이터 분할\n",
        "train_input, test_input, train_target, test_target = train_test_split(perch_full, perch_weight, random_state=42)\n",
        "\n",
        "# 다항식 변환\n",
        "poly = PolynomialFeatures(degree=2, include_bias=False)\n",
        "poly.fit(train_input)\n",
        "train_poly = poly.transform(train_input)\n",
        "test_poly = poly.transform(test_input)\n",
        "\n",
        "# 표준화\n",
        "ss = StandardScaler()\n",
        "ss.fit(train_poly)\n",
        "train_scaled = ss.transform(train_poly)\n",
        "test_scaled = ss.transform(test_poly)\n",
        "\n",
        "# SGDRegressor 사용\n",
        "sgd_regressor = SGDRegressor(loss = 'squared_error', random_state=42, max_iter=100, tol=None, eta0=0.01, learning_rate='constant')\n",
        "sgd_regressor.fit(train_scaled, train_target)\n",
        "\n",
        "# 성능 평가\n",
        "train_score = sgd_regressor.score(train_scaled, train_target)  # 훈련 세트 점수\n",
        "test_score = sgd_regressor.score(test_scaled, test_target)     # 테스트 세트 점수\n",
        "\n",
        "print(f'Training score: {train_score}')\n",
        "print(f'Test score: {test_score}')"
      ]
    },
    {
      "cell_type": "code",
      "source": [],
      "metadata": {
        "id": "o3UsOgoKj5ZT"
      },
      "execution_count": null,
      "outputs": []
    }
  ]
}